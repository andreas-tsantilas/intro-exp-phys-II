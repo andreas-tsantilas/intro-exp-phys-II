{
 "cells": [
  {
   "cell_type": "markdown",
   "metadata": {},
   "source": [
    "## Calculating the chi-square for a distribution and a histogram.\n",
    "\n",
    "We will do it two ways. With and without normalized histograms"
   ]
  },
  {
   "cell_type": "code",
   "execution_count": 151,
   "metadata": {},
   "outputs": [
    {
     "name": "stdout",
     "output_type": "stream",
     "text": [
      "Populating the interactive namespace from numpy and matplotlib\n"
     ]
    }
   ],
   "source": [
    "%pylab inline --no-import-all\n",
    "from scipy.stats import norm #will use this for plotting"
   ]
  },
  {
   "cell_type": "markdown",
   "metadata": {},
   "source": [
    "### make some data from a N(0,1) distribution"
   ]
  },
  {
   "cell_type": "code",
   "execution_count": 152,
   "metadata": {},
   "outputs": [],
   "source": [
    "n_bins = 50\n",
    "x = norm.rvs(size=10000)"
   ]
  },
  {
   "cell_type": "code",
   "execution_count": 153,
   "metadata": {},
   "outputs": [
    {
     "data": {
      "image/png": "[encoded data removed]",
      "text/plain": [
       "<Figure size 432x288 with 1 Axes>"
      ]
     },
     "metadata": {
      "needs_background": "light"
     },
     "output_type": "display_data"
    }
   ],
   "source": [
    "counts, bins, patches = plt.hist(x, bins=n_bins,density=False)"
   ]
  },
  {
   "cell_type": "markdown",
   "metadata": {},
   "source": [
    "## Get Bin centers\n",
    "\n",
    "Get the location for the bin centers. Here I do it step by step so you can see what is going on."
   ]
  },
  {
   "cell_type": "code",
   "execution_count": 154,
   "metadata": {},
   "outputs": [
    {
     "data": {
      "text/plain": [
       "array([-3.80208188, -3.64968941, -3.49729694, -3.34490446, -3.19251199,\n",
       "       -3.04011952, -2.88772705, -2.73533458, -2.58294211, -2.43054964,\n",
       "       -2.27815717, -2.12576469, -1.97337222, -1.82097975, -1.66858728,\n",
       "       -1.51619481, -1.36380234, -1.21140987, -1.0590174 , -0.90662493,\n",
       "       -0.75423245, -0.60183998, -0.44944751, -0.29705504, -0.14466257,\n",
       "        0.0077299 ,  0.16012237,  0.31251484,  0.46490732,  0.61729979,\n",
       "        0.76969226,  0.92208473,  1.0744772 ,  1.22686967,  1.37926214,\n",
       "        1.53165461,  1.68404708,  1.83643956,  1.98883203,  2.1412245 ,\n",
       "        2.29361697,  2.44600944,  2.59840191,  2.75079438,  2.90318685,\n",
       "        3.05557933,  3.2079718 ,  3.36036427,  3.51275674,  3.66514921,\n",
       "        3.81754168])"
      ]
     },
     "execution_count": 154,
     "metadata": {},
     "output_type": "execute_result"
    }
   ],
   "source": [
    "# all bins edges\n",
    "bins"
   ]
  },
  {
   "cell_type": "code",
   "execution_count": 155,
   "metadata": {},
   "outputs": [
    {
     "data": {
      "text/plain": [
       "array([-3.64968941, -3.49729694, -3.34490446, -3.19251199, -3.04011952,\n",
       "       -2.88772705, -2.73533458, -2.58294211, -2.43054964, -2.27815717,\n",
       "       -2.12576469, -1.97337222, -1.82097975, -1.66858728, -1.51619481,\n",
       "       -1.36380234, -1.21140987, -1.0590174 , -0.90662493, -0.75423245,\n",
       "       -0.60183998, -0.44944751, -0.29705504, -0.14466257,  0.0077299 ,\n",
       "        0.16012237,  0.31251484,  0.46490732,  0.61729979,  0.76969226,\n",
       "        0.92208473,  1.0744772 ,  1.22686967,  1.37926214,  1.53165461,\n",
       "        1.68404708,  1.83643956,  1.98883203,  2.1412245 ,  2.29361697,\n",
       "        2.44600944,  2.59840191,  2.75079438,  2.90318685,  3.05557933,\n",
       "        3.2079718 ,  3.36036427,  3.51275674,  3.66514921,  3.81754168])"
      ]
     },
     "execution_count": 155,
     "metadata": {},
     "output_type": "execute_result"
    }
   ],
   "source": [
    "right_edges = bins[1:]\n",
    "right_edges"
   ]
  },
  {
   "cell_type": "code",
   "execution_count": 156,
   "metadata": {},
   "outputs": [
    {
     "data": {
      "text/plain": [
       "array([-3.80208188, -3.64968941, -3.49729694, -3.34490446, -3.19251199,\n",
       "       -3.04011952, -2.88772705, -2.73533458, -2.58294211, -2.43054964,\n",
       "       -2.27815717, -2.12576469, -1.97337222, -1.82097975, -1.66858728,\n",
       "       -1.51619481, -1.36380234, -1.21140987, -1.0590174 , -0.90662493,\n",
       "       -0.75423245, -0.60183998, -0.44944751, -0.29705504, -0.14466257,\n",
       "        0.0077299 ,  0.16012237,  0.31251484,  0.46490732,  0.61729979,\n",
       "        0.76969226,  0.92208473,  1.0744772 ,  1.22686967,  1.37926214,\n",
       "        1.53165461,  1.68404708,  1.83643956,  1.98883203,  2.1412245 ,\n",
       "        2.29361697,  2.44600944,  2.59840191,  2.75079438,  2.90318685,\n",
       "        3.05557933,  3.2079718 ,  3.36036427,  3.51275674,  3.66514921])"
      ]
     },
     "execution_count": 156,
     "metadata": {},
     "output_type": "execute_result"
    }
   ],
   "source": [
    "left_edges = bins[:-1]\n",
    "left_edges"
   ]
  },
  {
   "cell_type": "code",
   "execution_count": 157,
   "metadata": {},
   "outputs": [
    {
     "data": {
      "text/plain": [
       "array([-3.72588564, -3.57349317, -3.4211007 , -3.26870823, -3.11631576,\n",
       "       -2.96392329, -2.81153082, -2.65913834, -2.50674587, -2.3543534 ,\n",
       "       -2.20196093, -2.04956846, -1.89717599, -1.74478352, -1.59239105,\n",
       "       -1.43999857, -1.2876061 , -1.13521363, -0.98282116, -0.83042869,\n",
       "       -0.67803622, -0.52564375, -0.37325128, -0.22085881, -0.06846633,\n",
       "        0.08392614,  0.23631861,  0.38871108,  0.54110355,  0.69349602,\n",
       "        0.84588849,  0.99828096,  1.15067344,  1.30306591,  1.45545838,\n",
       "        1.60785085,  1.76024332,  1.91263579,  2.06502826,  2.21742073,\n",
       "        2.36981321,  2.52220568,  2.67459815,  2.82699062,  2.97938309,\n",
       "        3.13177556,  3.28416803,  3.4365605 ,  3.58895297,  3.74134545])"
      ]
     },
     "execution_count": 157,
     "metadata": {},
     "output_type": "execute_result"
    }
   ],
   "source": [
    "bin_centers = (right_edges+left_edges)/2\n",
    "bin_centers"
   ]
  },
  {
   "cell_type": "code",
   "execution_count": 158,
   "metadata": {},
   "outputs": [],
   "source": [
    "bin_width = bins[1]-bins[0]"
   ]
  },
  {
   "cell_type": "markdown",
   "metadata": {},
   "source": [
    "## Raw histogram counts\n",
    "\n",
    "To go from the pdf to the expected counts in a bin, you need to include a normalization constant."
   ]
  },
  {
   "cell_type": "code",
   "execution_count": 159,
   "metadata": {},
   "outputs": [],
   "source": [
    "normalization = x.size*(bins[1]-bins[0])"
   ]
  },
  {
   "cell_type": "code",
   "execution_count": 160,
   "metadata": {},
   "outputs": [],
   "source": [
    "prediction = normalization*norm.pdf(bin_centers)"
   ]
  },
  {
   "cell_type": "code",
   "execution_count": 161,
   "metadata": {},
   "outputs": [
    {
     "data": {
      "text/plain": [
       "[<matplotlib.lines.Line2D at 0x28a5ba66308>]"
      ]
     },
     "execution_count": 161,
     "metadata": {},
     "output_type": "execute_result"
    },
    {
     "data": {
      "image/png": "[encoded data removed]",
      "text/plain": [
       "<Figure size 432x288 with 1 Axes>"
      ]
     },
     "metadata": {
      "needs_background": "light"
     },
     "output_type": "display_data"
    }
   ],
   "source": [
    "counts, bins, patches = plt.hist(x, bins=n_bins,density=False)\n",
    "plt.plot(bin_centers,prediction, c='r', lw=2)"
   ]
  },
  {
   "cell_type": "code",
   "execution_count": 162,
   "metadata": {},
   "outputs": [
    {
     "data": {
      "text/plain": [
       "(9998.629216214442, 10000.0)"
      ]
     },
     "execution_count": 162,
     "metadata": {},
     "output_type": "execute_result"
    }
   ],
   "source": [
    "np.sum(prediction), np.sum(counts)"
   ]
  },
  {
   "cell_type": "code",
   "execution_count": 163,
   "metadata": {},
   "outputs": [
    {
     "data": {
      "text/plain": [
       "Text(0.5, 0, '(counts-prediction)/sqrt(prediction)')"
      ]
     },
     "execution_count": 163,
     "metadata": {},
     "output_type": "execute_result"
    },
    {
     "data": {
      "image/png": "[encoded data removed]",
      "text/plain": [
       "<Figure size 432x288 with 1 Axes>"
      ]
     },
     "metadata": {
      "needs_background": "light"
     },
     "output_type": "display_data"
    }
   ],
   "source": [
    "# make a quick plot of (counts-prediction)/sqrt(prediction)\n",
    "# it should look like N(0,1) for chi-square formula to be appropriate\n",
    "temp = plt.hist((counts-prediction)/np.sqrt(prediction), bins=7, density=True, alpha=0.2)\n",
    "plt.plot(temp[1], norm.pdf(temp[1]))\n",
    "plt.plot(temp[1], norm.pdf(temp[1]), label='N(0,1)')\n",
    "plt.legend()\n",
    "plt.xlabel('(counts-prediction)/sqrt(prediction)')"
   ]
  },
  {
   "cell_type": "markdown",
   "metadata": {},
   "source": [
    "## Chisquare"
   ]
  },
  {
   "cell_type": "code",
   "execution_count": 164,
   "metadata": {},
   "outputs": [],
   "source": [
    "from scipy.stats import chisquare"
   ]
  },
  {
   "cell_type": "code",
   "execution_count": 165,
   "metadata": {},
   "outputs": [],
   "source": [
    "from scipy.stats import chi2"
   ]
  },
  {
   "cell_type": "code",
   "execution_count": 166,
   "metadata": {},
   "outputs": [
    {
     "data": {
      "text/plain": [
       "47.44489032311755"
      ]
     },
     "execution_count": 166,
     "metadata": {},
     "output_type": "execute_result"
    }
   ],
   "source": [
    "# right way\n",
    "np.sum((counts-prediction)**2/prediction)"
   ]
  },
  {
   "cell_type": "code",
   "execution_count": 167,
   "metadata": {},
   "outputs": [
    {
     "data": {
      "text/plain": [
       "(47.44489032311755, 0.5363314422017861)"
      ]
     },
     "execution_count": 167,
     "metadata": {},
     "output_type": "execute_result"
    }
   ],
   "source": [
    "# right way\n",
    "chisq_obs, pvalue = chisquare(counts, prediction)\n",
    "chisq_obs, pvalue"
   ]
  },
  {
   "cell_type": "markdown",
   "metadata": {},
   "source": [
    "Now we can calculate the p-value for having a chi-square value this large.\n",
    "Importantly we need to have the number of degrees of freedom be the number of bins."
   ]
  },
  {
   "cell_type": "code",
   "execution_count": 168,
   "metadata": {},
   "outputs": [
    {
     "data": {
      "text/plain": [
       "0.5765131011412187"
      ]
     },
     "execution_count": 168,
     "metadata": {},
     "output_type": "execute_result"
    }
   ],
   "source": [
    "#p-value\n",
    "chi2.sf(chisq_obs,counts.size)"
   ]
  },
  {
   "cell_type": "markdown",
   "metadata": {},
   "source": [
    "## Note \n",
    "A p-value of 0 or 1 is very unlikely. You should expect to sit in the middle of the distribution and have a p-value of ~0.5"
   ]
  },
  {
   "cell_type": "markdown",
   "metadata": {},
   "source": [
    "## Normalized Histogram (wrong way)\n",
    "\n",
    "Here we make a normed histogram, which is equivalent to dividing by the normalization constant"
   ]
  },
  {
   "cell_type": "code",
   "execution_count": 20,
   "metadata": {},
   "outputs": [],
   "source": [
    "prediction_normed = norm.pdf(bin_centers)"
   ]
  },
  {
   "cell_type": "code",
   "execution_count": 21,
   "metadata": {},
   "outputs": [
    {
     "name": "stderr",
     "output_type": "stream",
     "text": [
      "C:\\Users\\andre\\Anaconda3\\lib\\site-packages\\ipykernel_launcher.py:1: MatplotlibDeprecationWarning: \n",
      "The 'normed' kwarg was deprecated in Matplotlib 2.1 and will be removed in 3.1. Use 'density' instead.\n",
      "  \"\"\"Entry point for launching an IPython kernel.\n"
     ]
    },
    {
     "data": {
      "text/plain": [
       "[<matplotlib.lines.Line2D at 0x28a59d999c8>]"
      ]
     },
     "execution_count": 21,
     "metadata": {},
     "output_type": "execute_result"
    },
    {
     "data": {
      "image/png": "[encoded data removed]",
      "text/plain": [
       "<Figure size 432x288 with 1 Axes>"
      ]
     },
     "metadata": {
      "needs_background": "light"
     },
     "output_type": "display_data"
    }
   ],
   "source": [
    "counts_normed, bins, patches = plt.hist(x, bins=n_bins,normed=True)\n",
    "plt.plot(bin_centers,prediction_normed, c='r', lw=2)"
   ]
  },
  {
   "cell_type": "code",
   "execution_count": 22,
   "metadata": {},
   "outputs": [
    {
     "data": {
      "text/plain": [
       "(6.243036009672379, 6.244273944181589)"
      ]
     },
     "execution_count": 22,
     "metadata": {},
     "output_type": "execute_result"
    }
   ],
   "source": [
    "# Note, they don't add up to 1., they add up to (roughly) 1/bin_width\n",
    "np.sum(prediction_normed), np.sum(counts_normed)"
   ]
  },
  {
   "cell_type": "code",
   "execution_count": 23,
   "metadata": {},
   "outputs": [
    {
     "data": {
      "text/plain": [
       "6.244273944181598"
      ]
     },
     "execution_count": 23,
     "metadata": {},
     "output_type": "execute_result"
    }
   ],
   "source": [
    "1/bin_width"
   ]
  },
  {
   "cell_type": "code",
   "execution_count": 24,
   "metadata": {},
   "outputs": [
    {
     "name": "stderr",
     "output_type": "stream",
     "text": [
      "C:\\Users\\andre\\Anaconda3\\lib\\site-packages\\ipykernel_launcher.py:3: MatplotlibDeprecationWarning: \n",
      "The 'normed' kwarg was deprecated in Matplotlib 2.1 and will be removed in 3.1. Use 'density' instead.\n",
      "  This is separate from the ipykernel package so we can avoid doing imports until\n"
     ]
    },
    {
     "data": {
      "text/plain": [
       "Text(0.5, 1.0, 'note, the scale is way off!!!')"
      ]
     },
     "execution_count": 24,
     "metadata": {},
     "output_type": "execute_result"
    },
    {
     "data": {
      "image/png": "[encoded data removed]",
      "text/plain": [
       "<Figure size 432x288 with 1 Axes>"
      ]
     },
     "metadata": {
      "needs_background": "light"
     },
     "output_type": "display_data"
    }
   ],
   "source": [
    "# make a quick plot of (counts-prediction)/sqrt(prediction)\n",
    "# it should look like N(0,1) for chi-square formula to be appropriate\n",
    "temp = plt.hist((counts_normed-prediction_normed)/np.sqrt(prediction_normed), bins=7, normed=True, alpha=0.2)\n",
    "plt.plot(temp[1], norm.pdf(temp[1]), label='N(0,1) -- needed for chi-square')\n",
    "plt.plot(temp[1], norm.pdf(temp[1], 0,1./np.sqrt(normalization)), label='N(0,1/sqrt(norm))')\n",
    "plt.legend()\n",
    "plt.xlabel('(counts_normed-prediction_normed)/sqrt(prediction_normed)')\n",
    "plt.title('note, the scale is way off!!!', color='r')"
   ]
  },
  {
   "cell_type": "code",
   "execution_count": 25,
   "metadata": {},
   "outputs": [
    {
     "data": {
      "text/plain": [
       "0.042149255491007204"
      ]
     },
     "execution_count": 25,
     "metadata": {},
     "output_type": "execute_result"
    }
   ],
   "source": [
    "#wrong way\n",
    "np.sum((counts_normed-prediction_normed)**2/prediction_normed)"
   ]
  },
  {
   "cell_type": "code",
   "execution_count": 26,
   "metadata": {},
   "outputs": [
    {
     "data": {
      "text/plain": [
       "(0.042149255491007204, 1.0)"
      ]
     },
     "execution_count": 26,
     "metadata": {},
     "output_type": "execute_result"
    }
   ],
   "source": [
    "#wrong way\n",
    "chisq_obs_wrong, pvalue_wrong = chisquare(counts_normed, prediction_normed)\n",
    "chisq_obs_wrong, pvalue_wrong"
   ]
  },
  {
   "cell_type": "code",
   "execution_count": 27,
   "metadata": {},
   "outputs": [
    {
     "data": {
      "text/plain": [
       "(67.50065078467904, 0.04089793161889964)"
      ]
     },
     "execution_count": 27,
     "metadata": {},
     "output_type": "execute_result"
    }
   ],
   "source": [
    "## compare with the right way\n",
    "chisq_obs, pvalue"
   ]
  },
  {
   "cell_type": "code",
   "execution_count": 28,
   "metadata": {},
   "outputs": [
    {
     "data": {
      "text/plain": [
       "1.0"
      ]
     },
     "execution_count": 28,
     "metadata": {},
     "output_type": "execute_result"
    }
   ],
   "source": [
    "#p-value\n",
    "chi2.sf(chisq_obs_wrong,counts.size)"
   ]
  },
  {
   "cell_type": "markdown",
   "metadata": {
    "collapsed": true
   },
   "source": [
    "## Note \n",
    "A p-value of 0 or 1 is very unlikely. You should expect to sit in the middle of the distribution and have a p-value of ~0.5"
   ]
  },
  {
   "cell_type": "code",
   "execution_count": null,
   "metadata": {},
   "outputs": [],
   "source": []
  },
  {
   "cell_type": "code",
   "execution_count": null,
   "metadata": {},
   "outputs": [],
   "source": []
  },
  {
   "cell_type": "code",
   "execution_count": null,
   "metadata": {},
   "outputs": [],
   "source": []
  }
 ],
 "metadata": {
  "kernelspec": {
   "display_name": "Python 3",
   "language": "python",
   "name": "python3"
  },
  "language_info": {
   "codemirror_mode": {
    "name": "ipython",
    "version": 3
   },
   "file_extension": ".py",
   "mimetype": "text/x-python",
   "name": "python",
   "nbconvert_exporter": "python",
   "pygments_lexer": "ipython3",
   "version": "3.7.6"
  }
 },
 "nbformat": 4,
 "nbformat_minor": 1
}
