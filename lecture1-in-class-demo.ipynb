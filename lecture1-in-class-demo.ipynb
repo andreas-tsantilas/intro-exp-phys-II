{
 "cells": [
  {
   "cell_type": "markdown",
   "metadata": {},
   "source": [
    "## In Class Demo for Lecture 1\n",
    "\n",
    "Together as a class we created and entered some data based on some very simple measurements.\n",
    "The goals were:\n",
    "  * reinforce the notion of repeated measurement, while not being mind-numbingly boring.\n",
    "  * demonstraite the IPython notebook\n",
    "  * make a few points about systematic vs. statistical uncertainty with intuitive examples.\n",
    "  \n",
    "There were 32 students that provided complete data for the measurements. We entered this into a google spreadsheet, which I then converted to a `.csv` file and removed the names.\n",
    "\n",
    "The measurements were:\n",
    "  * **time 1** and **time 2** time between the words \"start\" and \"stop\" appearing on a slide show measured with smart phone stop watch.\n",
    "  * **time 3** same as above, but with a count down for \"start\"\n",
    "  * **dist 1** and **dist 2** location a red line on an interval that defined a unit length estimated by eye\n",
    "  * **error dist 1** and **error dist 2** student's uncertainty estimate for the corresponding measurement\n",
    "  * **area** area of a rectangle with respect to a larger square that defined unit area estimated by eye\n",
    "  * **x len** and **y len** the width and height of the same rectangle estimated by eye\n",
    "\n",
    "Now let's look at the data. "
   ]
  },
  {
   "cell_type": "code",
   "execution_count": 50,
   "metadata": {},
   "outputs": [
    {
     "name": "stdout",
     "output_type": "stream",
     "text": [
      "Populating the interactive namespace from numpy and matplotlib\n"
     ]
    }
   ],
   "source": [
    "# Most of our IPython notebooks will start with this\n",
    "# it imports numpy as np and matplotlib.pyplot as plt\n",
    "%pylab inline --no-import-all"
   ]
  },
  {
   "cell_type": "markdown",
   "metadata": {},
   "source": [
    "We will also use the pandas library to help with the tabular data.\n",
    "We will store the tabular data as a \"Data Frame\" named `mydata`"
   ]
  },
  {
   "cell_type": "code",
   "execution_count": 51,
   "metadata": {
    "collapsed": true
   },
   "outputs": [],
   "source": [
    "import pandas as pd"
   ]
  },
  {
   "cell_type": "code",
   "execution_count": 53,
   "metadata": {},
   "outputs": [],
   "source": [
    "mydata = pd.read_csv('demo.csv')\n",
    "# note there is no output from the assignment"
   ]
  },
  {
   "cell_type": "code",
   "execution_count": 55,
   "metadata": {},
   "outputs": [
    {
     "data": {
      "text/html": [
       "<div style=\"max-height:1000px;max-width:1500px;overflow:auto;\">\n",
       "<table border=\"1\" class=\"dataframe\">\n",
       "  <thead>\n",
       "    <tr style=\"text-align: right;\">\n",
       "      <th></th>\n",
       "      <th>name</th>\n",
       "      <th>time 1</th>\n",
       "      <th>time 2</th>\n",
       "      <th>time 3</th>\n",
       "      <th>dist 1</th>\n",
       "      <th>error dist 1</th>\n",
       "      <th>dist 2</th>\n",
       "      <th>error dist 2</th>\n",
       "      <th>area</th>\n",
       "      <th>x len</th>\n",
       "      <th>y len</th>\n",
       "    </tr>\n",
       "  </thead>\n",
       "  <tbody>\n",
       "    <tr>\n",
       "      <th>0 </th>\n",
       "      <td> name</td>\n",
       "      <td> 7.38</td>\n",
       "      <td> 7.39</td>\n",
       "      <td> 7.74</td>\n",
       "      <td> 0.325000</td>\n",
       "      <td> 0.050</td>\n",
       "      <td> 0.980000</td>\n",
       "      <td> 0.0050</td>\n",
       "      <td> 0.125000</td>\n",
       "      <td> 0.250000</td>\n",
       "      <td> 0.500000</td>\n",
       "    </tr>\n",
       "    <tr>\n",
       "      <th>1 </th>\n",
       "      <td> name</td>\n",
       "      <td> 7.63</td>\n",
       "      <td> 7.45</td>\n",
       "      <td> 7.68</td>\n",
       "      <td> 0.300000</td>\n",
       "      <td> 0.100</td>\n",
       "      <td> 0.970000</td>\n",
       "      <td> 0.0500</td>\n",
       "      <td> 0.140000</td>\n",
       "      <td> 0.280000</td>\n",
       "      <td> 0.500000</td>\n",
       "    </tr>\n",
       "    <tr>\n",
       "      <th>2 </th>\n",
       "      <td> name</td>\n",
       "      <td> 7.55</td>\n",
       "      <td> 7.44</td>\n",
       "      <td> 7.70</td>\n",
       "      <td> 0.300000</td>\n",
       "      <td> 0.100</td>\n",
       "      <td> 0.980000</td>\n",
       "      <td> 0.0400</td>\n",
       "      <td> 0.125000</td>\n",
       "      <td> 0.250000</td>\n",
       "      <td> 0.330000</td>\n",
       "    </tr>\n",
       "    <tr>\n",
       "      <th>3 </th>\n",
       "      <td> name</td>\n",
       "      <td> 7.73</td>\n",
       "      <td> 7.68</td>\n",
       "      <td> 7.76</td>\n",
       "      <td> 0.320000</td>\n",
       "      <td> 0.010</td>\n",
       "      <td> 0.995000</td>\n",
       "      <td> 0.0050</td>\n",
       "      <td> 0.187500</td>\n",
       "      <td> 0.375000</td>\n",
       "      <td> 0.750000</td>\n",
       "    </tr>\n",
       "    <tr>\n",
       "      <th>4 </th>\n",
       "      <td> name</td>\n",
       "      <td> 7.11</td>\n",
       "      <td> 7.48</td>\n",
       "      <td> 7.71</td>\n",
       "      <td> 0.358000</td>\n",
       "      <td> 0.001</td>\n",
       "      <td> 0.967800</td>\n",
       "      <td> 0.0002</td>\n",
       "      <td> 0.168000</td>\n",
       "      <td> 0.340000</td>\n",
       "      <td> 0.452000</td>\n",
       "    </tr>\n",
       "    <tr>\n",
       "      <th>5 </th>\n",
       "      <td> name</td>\n",
       "      <td> 7.50</td>\n",
       "      <td> 7.30</td>\n",
       "      <td> 7.60</td>\n",
       "      <td> 0.300000</td>\n",
       "      <td> 0.050</td>\n",
       "      <td> 0.980000</td>\n",
       "      <td> 0.0300</td>\n",
       "      <td> 0.170000</td>\n",
       "      <td> 0.300000</td>\n",
       "      <td> 0.450000</td>\n",
       "    </tr>\n",
       "    <tr>\n",
       "      <th>6 </th>\n",
       "      <td> name</td>\n",
       "      <td> 7.53</td>\n",
       "      <td> 7.65</td>\n",
       "      <td> 7.53</td>\n",
       "      <td> 0.300000</td>\n",
       "      <td> 0.100</td>\n",
       "      <td> 0.950000</td>\n",
       "      <td> 0.0200</td>\n",
       "      <td> 0.200000</td>\n",
       "      <td> 0.300000</td>\n",
       "      <td> 0.500000</td>\n",
       "    </tr>\n",
       "    <tr>\n",
       "      <th>7 </th>\n",
       "      <td> name</td>\n",
       "      <td> 6.88</td>\n",
       "      <td> 7.54</td>\n",
       "      <td> 7.67</td>\n",
       "      <td> 0.300000</td>\n",
       "      <td> 0.050</td>\n",
       "      <td> 0.950000</td>\n",
       "      <td> 0.0250</td>\n",
       "      <td> 0.142857</td>\n",
       "      <td> 0.333333</td>\n",
       "      <td> 0.428571</td>\n",
       "    </tr>\n",
       "    <tr>\n",
       "      <th>8 </th>\n",
       "      <td> name</td>\n",
       "      <td> 7.23</td>\n",
       "      <td> 7.48</td>\n",
       "      <td> 7.71</td>\n",
       "      <td> 0.320000</td>\n",
       "      <td> 0.030</td>\n",
       "      <td> 0.960000</td>\n",
       "      <td> 0.0200</td>\n",
       "      <td> 0.225000</td>\n",
       "      <td> 0.330000</td>\n",
       "      <td> 0.500000</td>\n",
       "    </tr>\n",
       "    <tr>\n",
       "      <th>9 </th>\n",
       "      <td> name</td>\n",
       "      <td> 7.50</td>\n",
       "      <td> 9.27</td>\n",
       "      <td> 7.55</td>\n",
       "      <td> 0.370000</td>\n",
       "      <td> 0.100</td>\n",
       "      <td> 0.920000</td>\n",
       "      <td> 0.1000</td>\n",
       "      <td> 0.142857</td>\n",
       "      <td> 0.300000</td>\n",
       "      <td> 0.500000</td>\n",
       "    </tr>\n",
       "    <tr>\n",
       "      <th>10</th>\n",
       "      <td> name</td>\n",
       "      <td> 7.67</td>\n",
       "      <td> 7.36</td>\n",
       "      <td> 7.81</td>\n",
       "      <td> 0.350000</td>\n",
       "      <td> 0.050</td>\n",
       "      <td> 0.970000</td>\n",
       "      <td> 0.0300</td>\n",
       "      <td> 0.230000</td>\n",
       "      <td> 0.350000</td>\n",
       "      <td> 0.580000</td>\n",
       "    </tr>\n",
       "    <tr>\n",
       "      <th>11</th>\n",
       "      <td> name</td>\n",
       "      <td> 7.38</td>\n",
       "      <td> 7.62</td>\n",
       "      <td> 7.56</td>\n",
       "      <td> 0.270000</td>\n",
       "      <td> 0.050</td>\n",
       "      <td> 0.980000</td>\n",
       "      <td> 0.0500</td>\n",
       "      <td> 0.170000</td>\n",
       "      <td> 0.300000</td>\n",
       "      <td> 0.500000</td>\n",
       "    </tr>\n",
       "    <tr>\n",
       "      <th>12</th>\n",
       "      <td> name</td>\n",
       "      <td> 7.95</td>\n",
       "      <td> 7.53</td>\n",
       "      <td> 7.58</td>\n",
       "      <td> 0.300000</td>\n",
       "      <td> 0.100</td>\n",
       "      <td> 0.900000</td>\n",
       "      <td> 0.1000</td>\n",
       "      <td> 0.160000</td>\n",
       "      <td> 0.330000</td>\n",
       "      <td> 0.500000</td>\n",
       "    </tr>\n",
       "    <tr>\n",
       "      <th>13</th>\n",
       "      <td> name</td>\n",
       "      <td> 7.97</td>\n",
       "      <td> 7.52</td>\n",
       "      <td> 7.67</td>\n",
       "      <td> 0.330000</td>\n",
       "      <td> 0.010</td>\n",
       "      <td> 0.900000</td>\n",
       "      <td> 0.0100</td>\n",
       "      <td> 0.166700</td>\n",
       "      <td> 0.333300</td>\n",
       "      <td> 0.500000</td>\n",
       "    </tr>\n",
       "    <tr>\n",
       "      <th>14</th>\n",
       "      <td> name</td>\n",
       "      <td> 7.34</td>\n",
       "      <td> 7.68</td>\n",
       "      <td> 7.86</td>\n",
       "      <td> 0.330000</td>\n",
       "      <td> 0.050</td>\n",
       "      <td> 0.990000</td>\n",
       "      <td> 0.0500</td>\n",
       "      <td> 0.125000</td>\n",
       "      <td> 0.250000</td>\n",
       "      <td> 0.500000</td>\n",
       "    </tr>\n",
       "    <tr>\n",
       "      <th>15</th>\n",
       "      <td> name</td>\n",
       "      <td> 7.72</td>\n",
       "      <td> 7.53</td>\n",
       "      <td> 7.75</td>\n",
       "      <td> 0.300000</td>\n",
       "      <td> 0.050</td>\n",
       "      <td> 0.950000</td>\n",
       "      <td> 0.0500</td>\n",
       "      <td> 0.200000</td>\n",
       "      <td> 0.250000</td>\n",
       "      <td> 0.500000</td>\n",
       "    </tr>\n",
       "    <tr>\n",
       "      <th>16</th>\n",
       "      <td> name</td>\n",
       "      <td> 7.09</td>\n",
       "      <td> 7.55</td>\n",
       "      <td> 7.71</td>\n",
       "      <td> 0.300000</td>\n",
       "      <td> 0.100</td>\n",
       "      <td> 0.950000</td>\n",
       "      <td> 0.0500</td>\n",
       "      <td> 0.200000</td>\n",
       "      <td> 0.330000</td>\n",
       "      <td> 0.500000</td>\n",
       "    </tr>\n",
       "    <tr>\n",
       "      <th>17</th>\n",
       "      <td> name</td>\n",
       "      <td> 7.58</td>\n",
       "      <td> 7.35</td>\n",
       "      <td> 7.60</td>\n",
       "      <td> 0.280000</td>\n",
       "      <td> 0.050</td>\n",
       "      <td> 0.980000</td>\n",
       "      <td> 0.0500</td>\n",
       "      <td> 0.200000</td>\n",
       "      <td> 0.300000</td>\n",
       "      <td> 0.600000</td>\n",
       "    </tr>\n",
       "    <tr>\n",
       "      <th>18</th>\n",
       "      <td> name</td>\n",
       "      <td> 7.63</td>\n",
       "      <td> 7.36</td>\n",
       "      <td> 7.63</td>\n",
       "      <td> 0.300000</td>\n",
       "      <td> 0.100</td>\n",
       "      <td> 0.970000</td>\n",
       "      <td> 0.1000</td>\n",
       "      <td> 0.125000</td>\n",
       "      <td> 0.250000</td>\n",
       "      <td> 0.500000</td>\n",
       "    </tr>\n",
       "    <tr>\n",
       "      <th>19</th>\n",
       "      <td> name</td>\n",
       "      <td> 7.05</td>\n",
       "      <td> 7.60</td>\n",
       "      <td> 7.73</td>\n",
       "      <td> 0.333333</td>\n",
       "      <td> 0.100</td>\n",
       "      <td> 0.960000</td>\n",
       "      <td> 0.0100</td>\n",
       "      <td> 0.200000</td>\n",
       "      <td> 0.250000</td>\n",
       "      <td> 0.500000</td>\n",
       "    </tr>\n",
       "    <tr>\n",
       "      <th>20</th>\n",
       "      <td> name</td>\n",
       "      <td> 7.25</td>\n",
       "      <td> 7.48</td>\n",
       "      <td> 7.60</td>\n",
       "      <td> 0.300000</td>\n",
       "      <td> 0.100</td>\n",
       "      <td> 0.950000</td>\n",
       "      <td> 0.5000</td>\n",
       "      <td> 0.160000</td>\n",
       "      <td> 0.280000</td>\n",
       "      <td> 0.500000</td>\n",
       "    </tr>\n",
       "    <tr>\n",
       "      <th>21</th>\n",
       "      <td> name</td>\n",
       "      <td> 7.57</td>\n",
       "      <td> 7.55</td>\n",
       "      <td> 7.66</td>\n",
       "      <td> 0.300000</td>\n",
       "      <td> 0.050</td>\n",
       "      <td> 0.950000</td>\n",
       "      <td> 0.0500</td>\n",
       "      <td> 0.200000</td>\n",
       "      <td> 0.240000</td>\n",
       "      <td> 0.500000</td>\n",
       "    </tr>\n",
       "    <tr>\n",
       "      <th>22</th>\n",
       "      <td> name</td>\n",
       "      <td> 7.55</td>\n",
       "      <td> 7.50</td>\n",
       "      <td> 7.81</td>\n",
       "      <td> 0.300000</td>\n",
       "      <td> 0.050</td>\n",
       "      <td> 0.970000</td>\n",
       "      <td> 0.0500</td>\n",
       "      <td> 0.190000</td>\n",
       "      <td> 0.300000</td>\n",
       "      <td> 0.600000</td>\n",
       "    </tr>\n",
       "    <tr>\n",
       "      <th>23</th>\n",
       "      <td> name</td>\n",
       "      <td> 6.58</td>\n",
       "      <td> 7.55</td>\n",
       "      <td> 7.77</td>\n",
       "      <td> 0.380000</td>\n",
       "      <td> 0.500</td>\n",
       "      <td> 0.900000</td>\n",
       "      <td> 0.1000</td>\n",
       "      <td> 0.180000</td>\n",
       "      <td> 0.300000</td>\n",
       "      <td> 0.500000</td>\n",
       "    </tr>\n",
       "    <tr>\n",
       "      <th>24</th>\n",
       "      <td> name</td>\n",
       "      <td> 7.58</td>\n",
       "      <td> 7.51</td>\n",
       "      <td> 8.25</td>\n",
       "      <td> 0.268900</td>\n",
       "      <td> 0.150</td>\n",
       "      <td> 0.990000</td>\n",
       "      <td> 0.1000</td>\n",
       "      <td> 0.150000</td>\n",
       "      <td> 0.300000</td>\n",
       "      <td> 0.500000</td>\n",
       "    </tr>\n",
       "    <tr>\n",
       "      <th>25</th>\n",
       "      <td> name</td>\n",
       "      <td> 7.45</td>\n",
       "      <td> 7.40</td>\n",
       "      <td> 7.80</td>\n",
       "      <td> 0.300000</td>\n",
       "      <td> 0.100</td>\n",
       "      <td> 0.960000</td>\n",
       "      <td> 0.0200</td>\n",
       "      <td> 0.200000</td>\n",
       "      <td> 0.240000</td>\n",
       "      <td> 0.500000</td>\n",
       "    </tr>\n",
       "    <tr>\n",
       "      <th>26</th>\n",
       "      <td> name</td>\n",
       "      <td> 7.43</td>\n",
       "      <td> 7.20</td>\n",
       "      <td> 7.66</td>\n",
       "      <td> 0.300000</td>\n",
       "      <td> 0.100</td>\n",
       "      <td> 0.950000</td>\n",
       "      <td> 0.1000</td>\n",
       "      <td> 0.160000</td>\n",
       "      <td> 0.300000</td>\n",
       "      <td> 0.500000</td>\n",
       "    </tr>\n",
       "    <tr>\n",
       "      <th>27</th>\n",
       "      <td> name</td>\n",
       "      <td> 7.59</td>\n",
       "      <td> 6.91</td>\n",
       "      <td> 7.72</td>\n",
       "      <td> 0.320000</td>\n",
       "      <td> 0.050</td>\n",
       "      <td> 0.960000</td>\n",
       "      <td> 0.0500</td>\n",
       "      <td> 0.170000</td>\n",
       "      <td> 0.250000</td>\n",
       "      <td> 0.550000</td>\n",
       "    </tr>\n",
       "    <tr>\n",
       "      <th>28</th>\n",
       "      <td> name</td>\n",
       "      <td> 7.47</td>\n",
       "      <td> 5.25</td>\n",
       "      <td> 7.47</td>\n",
       "      <td> 0.345553</td>\n",
       "      <td> 0.111</td>\n",
       "      <td> 0.999875</td>\n",
       "      <td> 0.0908</td>\n",
       "      <td> 0.156000</td>\n",
       "      <td> 0.072000</td>\n",
       "      <td> 0.090000</td>\n",
       "    </tr>\n",
       "    <tr>\n",
       "      <th>29</th>\n",
       "      <td> name</td>\n",
       "      <td> 7.58</td>\n",
       "      <td> 7.51</td>\n",
       "      <td> 7.55</td>\n",
       "      <td> 0.300000</td>\n",
       "      <td> 0.050</td>\n",
       "      <td> 0.998000</td>\n",
       "      <td> 0.0500</td>\n",
       "      <td> 0.200000</td>\n",
       "      <td> 0.330000</td>\n",
       "      <td> 0.600000</td>\n",
       "    </tr>\n",
       "    <tr>\n",
       "      <th>30</th>\n",
       "      <td> name</td>\n",
       "      <td> 7.36</td>\n",
       "      <td> 7.43</td>\n",
       "      <td> 7.63</td>\n",
       "      <td> 0.300000</td>\n",
       "      <td> 0.500</td>\n",
       "      <td> 0.900000</td>\n",
       "      <td> 0.5000</td>\n",
       "      <td> 0.190000</td>\n",
       "      <td> 0.330000</td>\n",
       "      <td> 0.660000</td>\n",
       "    </tr>\n",
       "    <tr>\n",
       "      <th>31</th>\n",
       "      <td> name</td>\n",
       "      <td> 6.78</td>\n",
       "      <td> 7.21</td>\n",
       "      <td> 7.68</td>\n",
       "      <td> 0.300000</td>\n",
       "      <td> 0.100</td>\n",
       "      <td> 0.950000</td>\n",
       "      <td> 0.0500</td>\n",
       "      <td> 0.200000</td>\n",
       "      <td> 0.333000</td>\n",
       "      <td> 0.500000</td>\n",
       "    </tr>\n",
       "    <tr>\n",
       "      <th>32</th>\n",
       "      <td> name</td>\n",
       "      <td> 6.78</td>\n",
       "      <td> 7.77</td>\n",
       "      <td> 7.45</td>\n",
       "      <td> 0.254400</td>\n",
       "      <td> 0.500</td>\n",
       "      <td> 0.980000</td>\n",
       "      <td> 0.5000</td>\n",
       "      <td> 0.165000</td>\n",
       "      <td> 0.330000</td>\n",
       "      <td> 0.460000</td>\n",
       "    </tr>\n",
       "  </tbody>\n",
       "</table>\n",
       "<p>33 rows × 11 columns</p>\n",
       "</div>"
      ],
      "text/plain": [
       "    name  time 1  time 2  time 3    dist 1  error dist 1    dist 2  \\\n",
       "0   name    7.38    7.39    7.74  0.325000         0.050  0.980000   \n",
       "1   name    7.63    7.45    7.68  0.300000         0.100  0.970000   \n",
       "2   name    7.55    7.44    7.70  0.300000         0.100  0.980000   \n",
       "3   name    7.73    7.68    7.76  0.320000         0.010  0.995000   \n",
       "4   name    7.11    7.48    7.71  0.358000         0.001  0.967800   \n",
       "5   name    7.50    7.30    7.60  0.300000         0.050  0.980000   \n",
       "6   name    7.53    7.65    7.53  0.300000         0.100  0.950000   \n",
       "7   name    6.88    7.54    7.67  0.300000         0.050  0.950000   \n",
       "8   name    7.23    7.48    7.71  0.320000         0.030  0.960000   \n",
       "9   name    7.50    9.27    7.55  0.370000         0.100  0.920000   \n",
       "10  name    7.67    7.36    7.81  0.350000         0.050  0.970000   \n",
       "11  name    7.38    7.62    7.56  0.270000         0.050  0.980000   \n",
       "12  name    7.95    7.53    7.58  0.300000         0.100  0.900000   \n",
       "13  name    7.97    7.52    7.67  0.330000         0.010  0.900000   \n",
       "14  name    7.34    7.68    7.86  0.330000         0.050  0.990000   \n",
       "15  name    7.72    7.53    7.75  0.300000         0.050  0.950000   \n",
       "16  name    7.09    7.55    7.71  0.300000         0.100  0.950000   \n",
       "17  name    7.58    7.35    7.60  0.280000         0.050  0.980000   \n",
       "18  name    7.63    7.36    7.63  0.300000         0.100  0.970000   \n",
       "19  name    7.05    7.60    7.73  0.333333         0.100  0.960000   \n",
       "20  name    7.25    7.48    7.60  0.300000         0.100  0.950000   \n",
       "21  name    7.57    7.55    7.66  0.300000         0.050  0.950000   \n",
       "22  name    7.55    7.50    7.81  0.300000         0.050  0.970000   \n",
       "23  name    6.58    7.55    7.77  0.380000         0.500  0.900000   \n",
       "24  name    7.58    7.51    8.25  0.268900         0.150  0.990000   \n",
       "25  name    7.45    7.40    7.80  0.300000         0.100  0.960000   \n",
       "26  name    7.43    7.20    7.66  0.300000         0.100  0.950000   \n",
       "27  name    7.59    6.91    7.72  0.320000         0.050  0.960000   \n",
       "28  name    7.47    5.25    7.47  0.345553         0.111  0.999875   \n",
       "29  name    7.58    7.51    7.55  0.300000         0.050  0.998000   \n",
       "30  name    7.36    7.43    7.63  0.300000         0.500  0.900000   \n",
       "31  name    6.78    7.21    7.68  0.300000         0.100  0.950000   \n",
       "32  name    6.78    7.77    7.45  0.254400         0.500  0.980000   \n",
       "\n",
       "    error dist 2      area     x len     y len  \n",
       "0         0.0050  0.125000  0.250000  0.500000  \n",
       "1         0.0500  0.140000  0.280000  0.500000  \n",
       "2         0.0400  0.125000  0.250000  0.330000  \n",
       "3         0.0050  0.187500  0.375000  0.750000  \n",
       "4         0.0002  0.168000  0.340000  0.452000  \n",
       "5         0.0300  0.170000  0.300000  0.450000  \n",
       "6         0.0200  0.200000  0.300000  0.500000  \n",
       "7         0.0250  0.142857  0.333333  0.428571  \n",
       "8         0.0200  0.225000  0.330000  0.500000  \n",
       "9         0.1000  0.142857  0.300000  0.500000  \n",
       "10        0.0300  0.230000  0.350000  0.580000  \n",
       "11        0.0500  0.170000  0.300000  0.500000  \n",
       "12        0.1000  0.160000  0.330000  0.500000  \n",
       "13        0.0100  0.166700  0.333300  0.500000  \n",
       "14        0.0500  0.125000  0.250000  0.500000  \n",
       "15        0.0500  0.200000  0.250000  0.500000  \n",
       "16        0.0500  0.200000  0.330000  0.500000  \n",
       "17        0.0500  0.200000  0.300000  0.600000  \n",
       "18        0.1000  0.125000  0.250000  0.500000  \n",
       "19        0.0100  0.200000  0.250000  0.500000  \n",
       "20        0.5000  0.160000  0.280000  0.500000  \n",
       "21        0.0500  0.200000  0.240000  0.500000  \n",
       "22        0.0500  0.190000  0.300000  0.600000  \n",
       "23        0.1000  0.180000  0.300000  0.500000  \n",
       "24        0.1000  0.150000  0.300000  0.500000  \n",
       "25        0.0200  0.200000  0.240000  0.500000  \n",
       "26        0.1000  0.160000  0.300000  0.500000  \n",
       "27        0.0500  0.170000  0.250000  0.550000  \n",
       "28        0.0908  0.156000  0.072000  0.090000  \n",
       "29        0.0500  0.200000  0.330000  0.600000  \n",
       "30        0.5000  0.190000  0.330000  0.660000  \n",
       "31        0.0500  0.200000  0.333000  0.500000  \n",
       "32        0.5000  0.165000  0.330000  0.460000  \n",
       "\n",
       "[33 rows x 11 columns]"
      ]
     },
     "execution_count": 55,
     "metadata": {},
     "output_type": "execute_result"
    }
   ],
   "source": [
    "# but the notebook will give a preview of that object if it can. Like this:\n",
    "mydata"
   ]
  },
  {
   "cell_type": "markdown",
   "metadata": {},
   "source": [
    "## A simple histogram of time 1"
   ]
  },
  {
   "cell_type": "code",
   "execution_count": 57,
   "metadata": {},
   "outputs": [
    {
     "data": {
      "text/plain": [
       "<matplotlib.text.Text at 0x113edcfd0>"
      ]
     },
     "execution_count": 57,
     "metadata": {},
     "output_type": "execute_result"
    },
    {
     "data": {
      "image/png": "[encoded data removed]",
      "text/plain": [
       "<matplotlib.figure.Figure at 0x113875a10>"
      ]
     },
     "metadata": {},
     "output_type": "display_data"
    }
   ],
   "source": [
    "time1 = mydata['time 1'].values\n",
    "bins, counts, patches = plt.hist(time1,bins=30)\n",
    "plt.xlabel('time 1')\n",
    "plt.ylabel('counts per bin')"
   ]
  },
  {
   "cell_type": "markdown",
   "metadata": {},
   "source": [
    "Calculate the mean, sample standard deviation, and estimate of the parent distribution's standard deviation.\n",
    "The estimate of parent distribution's standard deviation has the $N-1$ in the denominator:\n",
    "\\begin{equation}\n",
    "\\sigma_n = \\sqrt{ \\sum_{i=1}^N \\frac{(x_i - \\bar{x})^2}{N-1}}\n",
    "\\end{equation}\n",
    "and you can specify that is what you want by adding the optional argument `ddof=1`."
   ]
  },
  {
   "cell_type": "code",
   "execution_count": 59,
   "metadata": {},
   "outputs": [
    {
     "data": {
      "text/plain": [
       "(7.405757575757578, 0.31815786345613323, 0.32309083768181879)"
      ]
     },
     "execution_count": 59,
     "metadata": {},
     "output_type": "execute_result"
    }
   ],
   "source": [
    "np.mean(time1), np.std(time1), np.std(time1,ddof=1)"
   ]
  },
  {
   "cell_type": "markdown",
   "metadata": {},
   "source": [
    "The true time was 7.5 seconds, which is well within the bulk of the distribution."
   ]
  },
  {
   "cell_type": "markdown",
   "metadata": {},
   "source": [
    "## ok, let's do it again for time 2"
   ]
  },
  {
   "cell_type": "code",
   "execution_count": 73,
   "metadata": {},
   "outputs": [
    {
     "data": {
      "text/plain": [
       "(7.4560606060606061, 0.52182627664153902, 0.52991708899800649)"
      ]
     },
     "execution_count": 73,
     "metadata": {},
     "output_type": "execute_result"
    },
    {
     "data": {
      "image/png": "[encoded data removed]",
      "text/plain": [
       "<matplotlib.figure.Figure at 0x11392f450>"
      ]
     },
     "metadata": {},
     "output_type": "display_data"
    }
   ],
   "source": [
    "time2 = mydata['time 2'].values\n",
    "bins, counts, patches = plt.hist(time2,bins=30)\n",
    "plt.xlabel('time 2')\n",
    "plt.ylabel('counts per bin')\n",
    "np.mean(time2), np.std(time2), np.std(time2,ddof=1)"
   ]
  },
  {
   "cell_type": "markdown",
   "metadata": {},
   "source": [
    "Notice the bulk of the distribution looks similar, but there are a few outliers that lead to large standard deviation.\n",
    "Maybe these came from people who's phones didn't register the \"start\" or \"stop\" buttons the first time.  This is a source of **systematic uncertainty**. In fact, in class we discussed this and it was also happening in the first time measurement. When it happened to me, my time was 6.8s, which is 0.7 seconds away from the true value and much longer than my reaction time. If we had many measurements we might be able to see more evidence for these different sub-populations.\n",
    "\n",
    "\n",
    "## using both measurements\n",
    "I know tha the true time was 7.5s for both of the measurments, so we can append the two sets of measurements to get a nicer plot.  We will use the `hstack` command to horizontally stack or append the two arrays. With more entries, we can use finner bins and maybe see some structure that reveals the sub-population that required multiple attempts at pushing the button."
   ]
  },
  {
   "cell_type": "code",
   "execution_count": 82,
   "metadata": {},
   "outputs": [
    {
     "data": {
      "text/plain": [
       "(7.4309090909090925, 0.43289276183679559, 0.43620999626230572)"
      ]
     },
     "execution_count": 82,
     "metadata": {},
     "output_type": "execute_result"
    },
    {
     "data": {
      "image/png": "[encoded data removed]",
      "text/plain": [
       "<matplotlib.figure.Figure at 0x113188290>"
      ]
     },
     "metadata": {},
     "output_type": "display_data"
    }
   ],
   "source": [
    "time1_and_2 = np.hstack((time1,time2))\n",
    "bins, counts, patches = plt.hist(time1_and_2,bins=70)\n",
    "plt.xlabel('time 1 or 2')\n",
    "plt.ylabel('counts per bin')\n",
    "np.mean(time1_and_2), np.std(time1_and_2), np.std(time1_and_2,ddof=1)"
   ]
  },
  {
   "cell_type": "markdown",
   "metadata": {},
   "source": [
    "Well, hard to say, but on average the was very close to the true time."
   ]
  },
  {
   "cell_type": "markdown",
   "metadata": {},
   "source": [
    "## A variation with a count down\n",
    "\n",
    "The first two timing measurements had a reaction time delay for both the start and the stop. It's reasonable to guess the lag is about the same for both, so that effect mainy canceled out.  We will come back to this later in the class when we talk about **correlated uncertainty**.  \n",
    "\n",
    "In the third measurement there is a count down to the \"start\" that largely eliminates the reaction time delay. However, the reaction time delay is still there for the \"stop\".  So I would expect to see the distribuiton biased to longer than the true time. Let's see..."
   ]
  },
  {
   "cell_type": "code",
   "execution_count": 102,
   "metadata": {},
   "outputs": [
    {
     "data": {
      "text/plain": [
       "(7.6848484848484846, 0.1390252039962149, 0.14118076205969984)"
      ]
     },
     "execution_count": 102,
     "metadata": {},
     "output_type": "execute_result"
    },
    {
     "data": {
      "image/png": "[encoded data removed]",
      "text/plain": [
       "<matplotlib.figure.Figure at 0x1140058d0>"
      ]
     },
     "metadata": {},
     "output_type": "display_data"
    }
   ],
   "source": [
    "time3 = mydata['time 3'].values\n",
    "counts, bins, patches = plt.hist(time3,bins=30)\n",
    "plt.xlabel('time with countdown for start')\n",
    "plt.ylabel('counts per bin')\n",
    "np.mean(time3), np.std(time3), np.std(time3,ddof=1)"
   ]
  },
  {
   "cell_type": "markdown",
   "metadata": {},
   "source": [
    "Notice how almost all the measurements have time >7.5 seconds! \n",
    "\n",
    "Now let's directly compare the with and without the countdown.\n",
    "To do this we will overlay two histograms. A few new things:\n",
    "  * we will make a **normalized histogram** so that the height of the bins is interpreted as a probability instead of a count (and they add to 1). I'm doing this because we have twice as many measurements without the countdown.\n",
    "  * we will use colors and an `alpha` transparency to make it pretty.\n",
    "  * we will use labels and a legend"
   ]
  },
  {
   "cell_type": "code",
   "execution_count": 103,
   "metadata": {},
   "outputs": [
    {
     "data": {
      "text/plain": [
       "<matplotlib.text.Text at 0x1141e8510>"
      ]
     },
     "execution_count": 103,
     "metadata": {},
     "output_type": "execute_result"
    },
    {
     "data": {
      "image/png": "[encoded data removed]",
      "text/plain": [
       "<matplotlib.figure.Figure at 0x113bfbb50>"
      ]
     },
     "metadata": {},
     "output_type": "display_data"
    }
   ],
   "source": [
    "counts, bins, patches = plt.hist(time1_and_2,bins=30, normed=True,color='r', alpha=0.3, label='w/o countdown')\n",
    "#counts, bins, patches = plt.hist(time2,bins=bins, color='b', alpha=0.3)\n",
    "counts, bins, patches = plt.hist(time3,bins=bins, normed=True, color='g', alpha=0.3, label='w/ countdown')\n",
    "plt.legend(('w/o countdown', 'w/ countdown'), loc='upper left')\n",
    "plt.xlabel('time')\n",
    "plt.ylabel('probability per bin')"
   ]
  },
  {
   "cell_type": "markdown",
   "metadata": {},
   "source": [
    "Notice that the green distribution with the countdown is: \n",
    "  * biased to longer times (because the reaction-time delay was only for the \"stop\")\n",
    "  * is narrower -- possibly because the variation in reaction-time only affects the \"stop\" \n",
    "  "
   ]
  },
  {
   "cell_type": "markdown",
   "metadata": {},
   "source": [
    "## Distance measurement 1\n",
    "\n",
    "Here's the image\n",
    "\n",
    "<img src=\"./Screenshot 2016-01-25 15.38.29.png\" width=50%>"
   ]
  },
  {
   "cell_type": "code",
   "execution_count": 109,
   "metadata": {},
   "outputs": [
    {
     "data": {
      "text/plain": [
       "(0.31076323586969712, 0.027246817236026007)"
      ]
     },
     "execution_count": 109,
     "metadata": {},
     "output_type": "execute_result"
    },
    {
     "data": {
      "image/png": "[encoded data removed]",
      "text/plain": [
       "<matplotlib.figure.Figure at 0x114055590>"
      ]
     },
     "metadata": {},
     "output_type": "display_data"
    }
   ],
   "source": [
    "temp = mydata['dist 1'].values\n",
    "counts, bins, patches = plt.hist(temp,bins=30)\n",
    "plt.xlabel('length')\n",
    "plt.ylabel('counts per bin')\n",
    "np.mean(temp), np.std(temp)"
   ]
  },
  {
   "cell_type": "markdown",
   "metadata": {},
   "source": [
    "I'm impressed! The true distance is 0.306. Maybe I should have picked something further away from 0.3, which might just be a round number near 1/3.\n",
    "\n",
    "Now let's check out the error estimates."
   ]
  },
  {
   "cell_type": "code",
   "execution_count": 136,
   "metadata": {},
   "outputs": [
    {
     "data": {
      "text/plain": [
       "(0.10945454545454547, 0.12798818385543084, 0.001, 0.5)"
      ]
     },
     "execution_count": 136,
     "metadata": {},
     "output_type": "execute_result"
    },
    {
     "data": {
      "image/png": "[encoded data removed]",
      "text/plain": [
       "<matplotlib.figure.Figure at 0x115036f10>"
      ]
     },
     "metadata": {},
     "output_type": "display_data"
    }
   ],
   "source": [
    "temperror = mydata['error dist 1'].values\n",
    "counts, bins, patches = plt.hist(temperror,bins=30)\n",
    "plt.xlabel('uncertainty length')\n",
    "plt.ylabel('counts per bin')\n",
    "np.mean(temperror), np.std(temperror), np.min(temperror), np.max(temperror)"
   ]
  },
  {
   "cell_type": "markdown",
   "metadata": {},
   "source": [
    "Someone is pretty confident in their ability to eyeball distances to 1 part in 1000 :-)\n",
    "\n",
    "Let's look at the difference from the true value divided by the error estimate."
   ]
  },
  {
   "cell_type": "code",
   "execution_count": 137,
   "metadata": {},
   "outputs": [
    {
     "data": {
      "text/plain": [
       "(0.31076323586969712, 0.027246817236026007)"
      ]
     },
     "execution_count": 137,
     "metadata": {},
     "output_type": "execute_result"
    },
    {
     "data": {
      "image/png": "[encoded data removed]",
      "text/plain": [
       "<matplotlib.figure.Figure at 0x114f1d190>"
      ]
     },
     "metadata": {},
     "output_type": "display_data"
    }
   ],
   "source": [
    "relative_error = (temp-.306)/temperror\n",
    "counts, bins, patches = plt.hist(relative_error,bins=30)\n",
    "plt.xlabel('(meas-true)/uncertainty')\n",
    "plt.ylabel('counts per bin')\n",
    "\n",
    "np.mean(temp), np.std(temp)"
   ]
  },
  {
   "cell_type": "markdown",
   "metadata": {},
   "source": [
    "ok, that eagle-eyed student is throwing off the distribution a lot because of the small error estimate.\n",
    "Let's message the data a bit and replace their error estimate with a the average error estimate in the class."
   ]
  },
  {
   "cell_type": "code",
   "execution_count": 138,
   "metadata": {},
   "outputs": [],
   "source": [
    "mask_for_eagle_eyed_student = temperror<0.01\n",
    "temperror = np.mean(temperror)*(mask_for_eagle_eyed_student)+temperror"
   ]
  },
  {
   "cell_type": "code",
   "execution_count": 141,
   "metadata": {},
   "outputs": [
    {
     "data": {
      "text/plain": [
       "(0.15916927145330523, 0.55506817888530446)"
      ]
     },
     "execution_count": 141,
     "metadata": {},
     "output_type": "execute_result"
    },
    {
     "data": {
      "image/png": "[encoded data removed]",
      "text/plain": [
       "<matplotlib.figure.Figure at 0x114e35390>"
      ]
     },
     "metadata": {},
     "output_type": "display_data"
    }
   ],
   "source": [
    "relative_error = (temp-.306)/temperror\n",
    "counts, bins, patches = plt.hist(relative_error,bins=30)\n",
    "plt.xlabel('(meas-true)/uncertainty')\n",
    "np.mean(relative_error), np.std(relative_error)"
   ]
  },
  {
   "cell_type": "markdown",
   "metadata": {},
   "source": [
    "If everyone was doing a good job in estimating their measurement uncertainty, then `np.std(relative_error)` would be close to 1.\n",
    "It looks like people are over estimating their measurement uncertainty by about a factor of 2."
   ]
  },
  {
   "cell_type": "markdown",
   "metadata": {},
   "source": [
    "## Distance Measurement 2"
   ]
  },
  {
   "cell_type": "markdown",
   "metadata": {},
   "source": [
    "Here's the image: \n",
    "<img src=\"./Screenshot 2016-01-25 15.38.38.png\" width=50%>\n",
    "\n",
    "The goal here was to have the true value so close to the edge that it would skew the measurement distribution.\n",
    "The idea being that no one will put something greater than 1, but the low-side tail might be long"
   ]
  },
  {
   "cell_type": "code",
   "execution_count": 147,
   "metadata": {},
   "outputs": [
    {
     "data": {
      "text/plain": [
       "(0.95941439393939387, 0.027911406806818615)"
      ]
     },
     "execution_count": 147,
     "metadata": {},
     "output_type": "execute_result"
    },
    {
     "data": {
      "image/png": "[encoded data removed]",
      "text/plain": [
       "<matplotlib.figure.Figure at 0x114fd0950>"
      ]
     },
     "metadata": {},
     "output_type": "display_data"
    }
   ],
   "source": [
    "temp = mydata['dist 2'].values\n",
    "counts, bins, patches = plt.hist(temp,bins=30)\n",
    "plt.xlabel('length')\n",
    "plt.ylabel('counts per bin')\n",
    "np.mean(temp), np.std(temp)"
   ]
  },
  {
   "cell_type": "markdown",
   "metadata": {},
   "source": [
    "The true value was `0.976`, so again the class collectively does quite well.\n",
    "Notice below the relative error distribution. A few people have underestimated their measurement uncertainty by a factor of 10 or more."
   ]
  },
  {
   "cell_type": "code",
   "execution_count": 165,
   "metadata": {},
   "outputs": [
    {
     "data": {
      "text/plain": [
       "(0.95941439393939387, 0.027911406806818615, 0.00020000000000000001, 5)"
      ]
     },
     "execution_count": 165,
     "metadata": {},
     "output_type": "execute_result"
    },
    {
     "data": {
      "image/png": "[encoded data removed]",
      "text/plain": [
       "<matplotlib.figure.Figure at 0x114b0fad0>"
      ]
     },
     "metadata": {},
     "output_type": "display_data"
    }
   ],
   "source": [
    "temperror = mydata['error dist 2'].values\n",
    "\n",
    "# if you want to apply the mask again uncomment this\n",
    "#mask_for_eagle_eyed_student = temperror<0.02\n",
    "#temperror = np.mean(temperror)*(mask_for_eagle_eyed_student)+temperror\n",
    "\n",
    "relative_error = (temp-.976)/temperror\n",
    "\n",
    "counts, bins, patches = plt.hist(relative_error,bins=30)\n",
    "plt.xlabel('(meas-true)/uncertainty')\n",
    "plt.ylabel('counts per bin')\n",
    "\n",
    "np.mean(temp), np.std(temp), np.min(temperror), np.sum(mask_for_eagle_eyed_student)"
   ]
  },
  {
   "cell_type": "markdown",
   "metadata": {},
   "source": [
    "## The area of a rectangle square\n",
    "\n",
    "Here's the image. The blue square defines unit area, and the data are estimates of the square's area (asked first), then width and height (asked second)."
   ]
  },
  {
   "cell_type": "markdown",
   "metadata": {},
   "source": [
    "<img src=\"./Screenshot 2016-01-25 15.38.45.png\" width=50%>\n",
    "\n",
    "These are the true values:"
   ]
  },
  {
   "cell_type": "code",
   "execution_count": 174,
   "metadata": {},
   "outputs": [
    {
     "data": {
      "text/plain": [
       "(0.160956, 0.306, 0.0526)"
      ]
     },
     "execution_count": 174,
     "metadata": {},
     "output_type": "execute_result"
    }
   ],
   "source": [
    "(area_true, width_true, height_true) = (0.160956), (153./500), (26.3/500) \n",
    "(area_true, width_true, height_true)"
   ]
  },
  {
   "cell_type": "code",
   "execution_count": 182,
   "metadata": {},
   "outputs": [
    {
     "data": {
      "text/plain": [
       "(0.17345194805454556, 0.028575992883330858)"
      ]
     },
     "execution_count": 182,
     "metadata": {},
     "output_type": "execute_result"
    },
    {
     "data": {
      "image/png": "[encoded data removed]",
      "text/plain": [
       "<matplotlib.figure.Figure at 0x1155b2d50>"
      ]
     },
     "metadata": {},
     "output_type": "display_data"
    }
   ],
   "source": [
    "area = mydata['area'].values\n",
    "counts, bins, patches = plt.hist(area,bins=30)\n",
    "plt.xlabel('area')\n",
    "plt.ylabel('counts per bin')\n",
    "np.mean(area), np.std(area)"
   ]
  },
  {
   "cell_type": "code",
   "execution_count": 183,
   "metadata": {},
   "outputs": [
    {
     "data": {
      "text/plain": [
       "(0.2911101010090909, 0.053174954538205192)"
      ]
     },
     "execution_count": 183,
     "metadata": {},
     "output_type": "execute_result"
    },
    {
     "data": {
      "image/png": "[encoded data removed]",
      "text/plain": [
       "<matplotlib.figure.Figure at 0x1153ff590>"
      ]
     },
     "metadata": {},
     "output_type": "display_data"
    }
   ],
   "source": [
    "width = mydata['x len'].values\n",
    "counts, bins, patches = plt.hist(width,bins=30)\n",
    "plt.xlabel('width')\n",
    "plt.ylabel('counts per bin')\n",
    "np.mean(width), np.std(width)"
   ]
  },
  {
   "cell_type": "code",
   "execution_count": 184,
   "metadata": {},
   "outputs": [
    {
     "data": {
      "text/plain": [
       "(0.50153246753333336, 0.10081915128011371)"
      ]
     },
     "execution_count": 184,
     "metadata": {},
     "output_type": "execute_result"
    },
    {
     "data": {
      "image/png": "[encoded data removed]",
      "text/plain": [
       "<matplotlib.figure.Figure at 0x1154b5d50>"
      ]
     },
     "metadata": {},
     "output_type": "display_data"
    }
   ],
   "source": [
    "height = mydata['y len'].values\n",
    "counts, bins, patches = plt.hist(height,bins=30)\n",
    "plt.xlabel('height')\n",
    "plt.ylabel('counts per bin')\n",
    "np.mean(height), np.std(height)"
   ]
  },
  {
   "cell_type": "markdown",
   "metadata": {},
   "source": [
    "### Ok, let's try to do some simple propagation of uncertainty\n",
    "\n",
    "Everyone estimated the width and height of the square. \n",
    "\n",
    "Let's first look at the observed distribution of $W*H$ from each person's individual measurements:"
   ]
  },
  {
   "cell_type": "code",
   "execution_count": 208,
   "metadata": {},
   "outputs": [
    {
     "data": {
      "image/png": "[encoded data removed]",
      "text/plain": [
       "<matplotlib.figure.Figure at 0x1157f42d0>"
      ]
     },
     "metadata": {},
     "output_type": "display_data"
    }
   ],
   "source": [
    "width_times_height = width*height\n",
    "counts, bins, patches = plt.hist(width_times_height,bins=30)"
   ]
  },
  {
   "cell_type": "code",
   "execution_count": 207,
   "metadata": {},
   "outputs": [
    {
     "name": "stdout",
     "output_type": "stream",
     "text": [
      "observed mean(w*h) = 0.150, std(w*h) = 0.043 \n"
     ]
    }
   ],
   "source": [
    "print(\"observed mean(w*h) = %.3f, std(w*h) = %.3f \" %(np.mean(width*height), np.std(width*height)))"
   ]
  },
  {
   "cell_type": "markdown",
   "metadata": {},
   "source": [
    "Ok, now let's compare it to the expectation from propagation of uncertainty.\n",
    "\n",
    "Unfortunately, we didn't get an uncertainty estimate from every person. So instead, we will use the sample standard deviation of the width and height measurements from the class.\n",
    "Let's see how the propagation of uncertainty formulae compares to explicitly looking at the distribution of the product of width*height.\n",
    "\n",
    "Recall that for $A=W*H$ the uncertainty in $W$ and $H$ propoagates to $A$ according to:\n",
    "\n",
    "\\begin{equation}\n",
    "\\left(\\frac{\\sigma_A}{A}\\right)^2 = \\left(\\frac{\\sigma_W}{W}\\right)^2 + \\left(\\frac{\\sigma_H}{H}\\right)^2  \n",
    "\\end{equation}"
   ]
  },
  {
   "cell_type": "code",
   "execution_count": 209,
   "metadata": {},
   "outputs": [
    {
     "name": "stdout",
     "output_type": "stream",
     "text": [
      "mean(w) * mean(h) = 0.146, propagation of uncertainty for w*h = 0.040 \n"
     ]
    }
   ],
   "source": [
    "std_width = np.std(width)\n",
    "std_height = np.std(height)\n",
    "mean_width = np.mean(width)\n",
    "mean_height = np.mean(height)\n",
    "\n",
    "# propagation of uncertainty\n",
    "expected_uncert_on_product = np.sqrt(((std_width / mean_width)**2 + (std_height / mean_height)**2) \\\n",
    "                                     * (mean_width*mean_height)**2)\n",
    "\n",
    "print(\"mean(w) * mean(h) = %.3f, propagation of uncertainty for w*h = %.3f \" %(mean_width*mean_height, expected_uncert_on_product))\n"
   ]
  },
  {
   "cell_type": "markdown",
   "metadata": {},
   "source": [
    "Pretty close!"
   ]
  },
  {
   "cell_type": "markdown",
   "metadata": {},
   "source": [
    "## for fun\n",
    "\n",
    "Now let's look at consistency of the direct area estimation and the product of width*height"
   ]
  },
  {
   "cell_type": "code",
   "execution_count": 195,
   "metadata": {},
   "outputs": [
    {
     "data": {
      "text/plain": [
       "(0.1, 0.25)"
      ]
     },
     "execution_count": 195,
     "metadata": {},
     "output_type": "execute_result"
    },
    {
     "data": {
      "image/png": "[encoded data removed]",
      "text/plain": [
       "<matplotlib.figure.Figure at 0x114e456d0>"
      ]
     },
     "metadata": {},
     "output_type": "display_data"
    }
   ],
   "source": [
    "plt.scatter(area, width*height)\n",
    "plt.xlabel('area')\n",
    "plt.ylabel('width*height')\n",
    "plt.xlim(0.1,.25)\n",
    "plt.ylim(0.1,.25)"
   ]
  },
  {
   "cell_type": "code",
   "execution_count": 197,
   "metadata": {},
   "outputs": [
    {
     "data": {
      "text/plain": [
       "<matplotlib.text.Text at 0x1156d25d0>"
      ]
     },
     "execution_count": 197,
     "metadata": {},
     "output_type": "execute_result"
    },
    {
     "data": {
      "image/png": "[encoded data removed]",
      "text/plain": [
       "<matplotlib.figure.Figure at 0x1156c1450>"
      ]
     },
     "metadata": {},
     "output_type": "display_data"
    }
   ],
   "source": [
    "difference = area - width*height\n",
    "counts, bins, patches = plt.hist(difference,bins=30)\n",
    "plt.xlabel('area - width*height')\n",
    "plt.ylabel('counts per bin')"
   ]
  },
  {
   "cell_type": "markdown",
   "metadata": {},
   "source": [
    "It seems we tend to over estimate the area compared to our own width*height estimation"
   ]
  },
  {
   "cell_type": "markdown",
   "metadata": {},
   "source": [
    "## Conclusions\n",
    "\n",
    "Ok, well this was meant to be an introduction to doing some data analysis with the IPython notebook with some examples that will knock the dust off your memory from last semester.  "
   ]
  }
 ],
 "metadata": {
  "kernelspec": {
   "display_name": "Python 3",
   "language": "python",
   "name": "python3"
  },
  "language_info": {
   "codemirror_mode": {
    "name": "ipython",
    "version": 3
   },
   "file_extension": ".py",
   "mimetype": "text/x-python",
   "name": "python",
   "nbconvert_exporter": "python",
   "pygments_lexer": "ipython3",
   "version": "3.7.6"
  }
 },
 "nbformat": 4,
 "nbformat_minor": 1
}
